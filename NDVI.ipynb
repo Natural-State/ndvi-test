{
  "nbformat": 4,
  "nbformat_minor": 0,
  "metadata": {
    "colab": {
      "provenance": [],
      "toc_visible": true,
      "mount_file_id": "1JK2Bt52NRaE_oWYNyouZQQwZyniBWvpk",
      "authorship_tag": "ABX9TyOO/zOLlqLadAdM1B555txL",
      "include_colab_link": true
    },
    "kernelspec": {
      "name": "python3",
      "display_name": "Python 3"
    },
    "language_info": {
      "name": "python"
    }
  },
  "cells": [
    {
      "cell_type": "markdown",
      "metadata": {
        "id": "view-in-github",
        "colab_type": "text"
      },
      "source": [
        "<a href=\"https://colab.research.google.com/github/Natural-State/ndvi-test/blob/main/NDVI.ipynb\" target=\"_parent\"><img src=\"https://colab.research.google.com/assets/colab-badge.svg\" alt=\"Open In Colab\"/></a>"
      ]
    },
    {
      "cell_type": "markdown",
      "source": [
        "# Extract NDVI for an AOI and export to Google Drive"
      ],
      "metadata": {
        "id": "dJXp2XHuX66D"
      }
    },
    {
      "cell_type": "markdown",
      "source": [
        "See [here](https://developers.google.com/earth-engine/guides/python_install#syntax) for differences between Javascript and Python syntax\n",
        "\n",
        "Main [tutorial](https://courses.spatialthoughts.com/end-to-end-gee.html#module-6-google-earth-engine-python-api) here"
      ],
      "metadata": {
        "id": "87txRFNsithD"
      }
    },
    {
      "cell_type": "markdown",
      "source": [
        "## Import gee and authenticate"
      ],
      "metadata": {
        "id": "7yUMLQBfYG9B"
      }
    },
    {
      "cell_type": "code",
      "execution_count": null,
      "metadata": {
        "colab": {
          "base_uri": "https://localhost:8080/"
        },
        "id": "sOoUxFdhSmti",
        "outputId": "45d4b91d-34c0-474b-8816-16b10848ef34"
      },
      "outputs": [
        {
          "output_type": "stream",
          "name": "stdout",
          "text": [
            "To authorize access needed by Earth Engine, open the following URL in a web browser and follow the instructions. If the web browser does not start automatically, please manually browse the URL below.\n",
            "\n",
            "    https://code.earthengine.google.com/client-auth?scopes=https%3A//www.googleapis.com/auth/earthengine%20https%3A//www.googleapis.com/auth/devstorage.full_control&request_id=32DZV1vhoEIZCLlyqA2054-rxrQgrtO5uwaSRhj2Uuo&tc=ZQ-RgbtuyO9fPa741c7acynpSi1f3O3sLG6gvAcXQ3s&cc=81tIqK_xDOn1O9gTO_N4qpPNsM7C8t56O9QK-NAHrCk\n",
            "\n",
            "The authorization workflow will generate a code, which you should paste in the box below.\n",
            "Enter verification code: 4/1AWtgzh4DSbdELXu15QPMeG_d_CBowpJmTZVikYOKk-HLg76XRFfbP-DQ_Qo\n",
            "\n",
            "Successfully saved authorization token.\n"
          ]
        }
      ],
      "source": [
        "import ee\n",
        "\n",
        "# Trigger the authentication flow.\n",
        "ee.Authenticate()\n",
        "\n",
        "# Initialize the library.\n",
        "ee.Initialize()"
      ]
    },
    {
      "cell_type": "markdown",
      "source": [
        "## Test API"
      ],
      "metadata": {
        "id": "ExF4i_KEYjoF"
      }
    },
    {
      "cell_type": "code",
      "source": [
        "# Print the elevation of Mount Everest.\n",
        "dem = ee.Image('USGS/SRTMGL1_003')\n",
        "xy = ee.Geometry.Point([86.9250, 27.9881])\n",
        "elev = dem.sample(xy, 30).first().get('elevation').getInfo()\n",
        "print('Mount Everest elevation (m):', elev)"
      ],
      "metadata": {
        "colab": {
          "base_uri": "https://localhost:8080/"
        },
        "id": "n1fp0C-zYnjd",
        "outputId": "57db7f72-fdee-4cf9-ec77-dc6c44e05196"
      },
      "execution_count": null,
      "outputs": [
        {
          "output_type": "stream",
          "name": "stdout",
          "text": [
            "Mount Everest elevation (m): 8729\n"
          ]
        }
      ]
    },
    {
      "cell_type": "markdown",
      "source": [
        "## Import EE assets\n",
        "\n",
        "See `mod3_7_import_export_data.ipynb` for local import of shapefiles (convert to EE object)\n",
        "\n",
        "Google Drive can be mounted after which files are accessible at `content/drive/MyDrive`"
      ],
      "metadata": {
        "id": "vpS5W52-Y5I5"
      }
    },
    {
      "cell_type": "code",
      "source": [
        "aoi = ee.FeatureCollection(\"users/dominic-henry/Mount_Kenya_Rangelands/Ngare_Ndare\")"
      ],
      "metadata": {
        "id": "gDsVKQeyY4yf"
      },
      "execution_count": null,
      "outputs": []
    },
    {
      "cell_type": "markdown",
      "source": [
        "## Import image collection"
      ],
      "metadata": {
        "id": "k7gU47wyao17"
      }
    },
    {
      "cell_type": "code",
      "source": [
        "sentinel2 = ee.ImageCollection(\"COPERNICUS/S2\")"
      ],
      "metadata": {
        "id": "moid-7byasZq"
      },
      "execution_count": null,
      "outputs": []
    },
    {
      "cell_type": "markdown",
      "source": [
        "## NDVI processing"
      ],
      "metadata": {
        "id": "MF4OJJGka6Kd"
      }
    },
    {
      "cell_type": "code",
      "source": [
        "# Date parameters\n",
        "start_date = ee.Date('2021-01-01')\n",
        "end_date = ee.Date('2021-12-31')\n",
        "\n",
        "# Layer naming\n",
        "aoi_name = aoi.getString(\"system:id\")\n",
        "aoi_name = aoi_name.slice(aoi_name.rindex(\"/\"), aoi_name.length()).replace('/','')\n",
        "aoi_name = aoi_name.cat('_NDVI_')\n",
        "aoi_name = aoi_name.cat(start_date.format('YYYY'))\n",
        "print(aoi_name.getInfo())"
      ],
      "metadata": {
        "colab": {
          "base_uri": "https://localhost:8080/"
        },
        "id": "Q-WTaHfja2_-",
        "outputId": "4e326644-a218-4b1b-ef07-6d5ba7cbe120"
      },
      "execution_count": null,
      "outputs": [
        {
          "output_type": "stream",
          "name": "stdout",
          "text": [
            "Ngare_Ndare_NDVI_2021\n"
          ]
        }
      ]
    },
    {
      "cell_type": "code",
      "source": [
        "ndvi_2020 = sentinel2.filterDate(start_date, end_date)\n",
        "\n",
        "def addNDVI(image):\n",
        "  imgb = image.select('B.*')\n",
        "  ndvi = imgb.normalizedDifference(['B8','B4']).rename('NDVI')\n",
        "  return image.addBands(ndvi)\n",
        "\n",
        "ndvi_2020 = ndvi_2020.map(addNDVI).mean().clip(aoi)"
      ],
      "metadata": {
        "id": "RJRCuXp-bWom"
      },
      "execution_count": null,
      "outputs": []
    },
    {
      "cell_type": "code",
      "source": [
        "# Select only NDVI band\n",
        "ndvi_2020 = ndvi_2020.select('NDVI')"
      ],
      "metadata": {
        "id": "Lx85_51Lddht"
      },
      "execution_count": null,
      "outputs": []
    },
    {
      "cell_type": "markdown",
      "source": [
        "## Export data - create task\n",
        "\n",
        "`filenamePrefix` should be in format: place_layer_timeperiod"
      ],
      "metadata": {
        "id": "i5vQjmLxemR7"
      }
    },
    {
      "cell_type": "code",
      "source": [
        "task = ee.batch.Export.image.toDrive(image = ndvi_2020,\n",
        "                                     region = aoi.geometry().bounds(),\n",
        "                                     description = \"EXPORT IMAGE TO DRIVE\",\n",
        "                                     folder = \"GEE_exports\",\n",
        "                                     fileNamePrefix = aoi_name.getInfo() + \"_test\",\n",
        "                                     scale = 30,\n",
        "                                     maxPixels = 10e12\n",
        "                                     )\n",
        "\n",
        "# print(aoi_name.getInfo() + \"test\")"
      ],
      "metadata": {
        "id": "0WtPQBN_enqN"
      },
      "execution_count": null,
      "outputs": []
    },
    {
      "cell_type": "markdown",
      "source": [
        "## Start task"
      ],
      "metadata": {
        "id": "VV5C2m0Ofu6N"
      }
    },
    {
      "cell_type": "code",
      "source": [
        "task.start()\n"
      ],
      "metadata": {
        "id": "H6kxUEfKfwxx"
      },
      "execution_count": null,
      "outputs": []
    },
    {
      "cell_type": "markdown",
      "source": [
        "## Check task status\n",
        "\n",
        "[List](https://developers.google.com/earth-engine/guides/processing_environments#list-of-task-states) of task status messages (state field)\n"
      ],
      "metadata": {
        "id": "JTou0uwZf07f"
      }
    },
    {
      "cell_type": "code",
      "source": [
        "task.status()"
      ],
      "metadata": {
        "colab": {
          "base_uri": "https://localhost:8080/"
        },
        "id": "zsJU-SmMf28n",
        "outputId": "027d40eb-7f87-4e36-ecf6-347d72ce2804"
      },
      "execution_count": null,
      "outputs": [
        {
          "output_type": "execute_result",
          "data": {
            "text/plain": [
              "{'state': 'COMPLETED',\n",
              " 'description': 'EXPORT IMAGE TO DRIVE',\n",
              " 'creation_timestamp_ms': 1678116207430,\n",
              " 'update_timestamp_ms': 1678116234179,\n",
              " 'start_timestamp_ms': 1678116220802,\n",
              " 'task_type': 'EXPORT_IMAGE',\n",
              " 'destination_uris': ['https://drive.google.com/#folders/1KNdzJm62w6HMbH2nNTYpHwFgX9TuEDxk'],\n",
              " 'attempt': 1,\n",
              " 'batch_eecu_usage_seconds': 17.507537841796875,\n",
              " 'id': 'HEOXJVXLTZBQDSTRCTLKUSNZ',\n",
              " 'name': 'projects/earthengine-legacy/operations/HEOXJVXLTZBQDSTRCTLKUSNZ'}"
            ]
          },
          "metadata": {},
          "execution_count": 27
        }
      ]
    },
    {
      "cell_type": "markdown",
      "source": [
        "## Mapping images"
      ],
      "metadata": {
        "id": "rjs-6uszlxX4"
      }
    },
    {
      "cell_type": "code",
      "source": [
        "# Import the Folium library.\n",
        "import folium\n",
        "\n",
        "# Define a method for displaying Earth Engine image tiles to folium map.\n",
        "def add_ee_layer(self, ee_image_object, vis_params, name):\n",
        "  map_id_dict = ee.Image(ee_image_object).getMapId(vis_params)\n",
        "  folium.raster_layers.TileLayer(\n",
        "    tiles = map_id_dict['tile_fetcher'].url_format,\n",
        "    attr = 'Map Data &copy; <a href=\"https://earthengine.google.com/\">Google Earth Engine</a>',\n",
        "    name = name,\n",
        "    overlay = True,\n",
        "    control = True\n",
        "  ).add_to(self)\n",
        "\n",
        " # Add EE drawing method to folium.\n",
        "folium.Map.add_ee_layer = add_ee_layer\n",
        "\n",
        "# Set visualization parameters.\n",
        "vis_params = {\n",
        "  'min': -1,\n",
        "  'max': 1,\n",
        "  'palette': ['red', 'yellow', 'green']}\n",
        "\n",
        "# Create a folium map object.\n",
        "my_map = folium.Map(location=[0.1591, 37.3729], zoom_start=12)\n",
        "\n",
        "# Add the NDVI image to the map object.\n",
        "my_map.add_ee_layer(ndvi_2020, vis_params, 'NDVI')\n",
        "\n",
        "# Add a layer control panel to the map.\n",
        "my_map.add_child(folium.LayerControl())\n",
        "\n",
        "# Display the map.\n",
        "display(my_map)"
      ],
      "metadata": {
        "id": "R4j3Z14yl2bC"
      },
      "execution_count": null,
      "outputs": []
    }
  ]
}